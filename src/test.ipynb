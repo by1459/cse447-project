{
 "cells": [
  {
   "cell_type": "code",
   "execution_count": 1,
   "metadata": {},
   "outputs": [
    {
     "name": "stderr",
     "output_type": "stream",
     "text": [
      "/Users/brianyao/anaconda3/envs/cse447/lib/python3.11/site-packages/tqdm/auto.py:21: TqdmWarning: IProgress not found. Please update jupyter and ipywidgets. See https://ipywidgets.readthedocs.io/en/stable/user_install.html\n",
      "  from .autonotebook import tqdm as notebook_tqdm\n"
     ]
    }
   ],
   "source": [
    "from datasets import load_dataset, Dataset\n",
    "from torch.nn import LSTM\n"
   ]
  },
  {
   "cell_type": "code",
   "execution_count": 2,
   "metadata": {},
   "outputs": [],
   "source": [
    "ds = load_dataset(\"uonlp/CulturaX\", \"en\", split='train', streaming=True)"
   ]
  },
  {
   "cell_type": "code",
   "execution_count": 7,
   "metadata": {},
   "outputs": [
    {
     "name": "stdout",
     "output_type": "stream",
     "text": [
      "{'text': 'DOT Announces 2008 Exploration Program - Redorbit\\nCALGARY, ALBERTA--(Marketwire - July 31, 2008) - DOT Resources Ltd. (TSX VENTURE:DOT) (\"DOT\" or the \"Corporation\") is pleased to announce it will be completing a deep 3D Induced Polarization/ Resistivity (\"IP\") survey on its Dot porphyry copper property (the \"Property\") located 17 kilometres south of the Highland Valley Mining complex, in central British Columbia. The purpose of the 3D IP survey is to test the depth extension of the copper-molybdenum mineralization outlined to date on the Southeast zone and to explore the area of low magnetic susceptibility for zones of sulphide mineralization.\\nThe total field magnetometer survey completed over the Property in 2007 located a large area measuring 3 kilometres (\"km\") by 1 km of low magnetic susceptibility (see Figure 1) which is interpreted to reflect either:\\n- alteration, or\\n- the intersection of cross-cutting structures, or\\n- a combination of both features\\nThe porphyry deposits located to date in the Highland Valley District all exhibit a combination of the above stated features. The zones of copper mineralization located to date on the property (see News Release dated October 11, 2007) cover a strike length of at least 1,000 metres (\"m\") (see Figure 1) and are located on the northeast border of the large area of low magnetic susceptibility. These zones are characterized by widespread copper and more restricted molybdenum mineralization and occur in a broad north- northwest trending shear zone that could represent either:\\n- a \"leakage\" zone, or\\n- a mineralized satellite zone from a deeper mineralized body\\nThe distribution of the copper and molybdenum mineralization in these zones suggests the possibility of two separate mineralizing events.\\nThe objectives of the 2008 exploration program are to continue the exploration of the targets identified in 2007 and to test the strike and depth extension of the copper-molybdenum mineralization in the Southeast zone. The first phase of the 2008 exploration program is expected to commence in late August and consists of a deep (approximately 200 m below surface) 3D IP survey over the Southeast zone of copper-molybdenum mineralization and the large area of low magnetic susceptibility.\\nContingent on the results of the first phase of the IP survey, a second phase of additional IP surveying and diamond drill testing is planned. Diamond drill testing to the southeast and the depth extension of the Southeast zone is also planned commencing in the third quarter 2008.\\nImportant factors that could cause actual results to differ materially from DOT\\'s expectations include fluctuations in commodity prices and currency exchange rates; uncertainties relating to interpretation of drill results and the geology, continuity and grade of mineral deposits, the possibility of adverse developments in the financial markets generally, and other risks and uncertainties disclosed under the heading \"Caution Regarding Forward- Looking Statements\" and in other information released by DOT and filed with the appropriate regulatory agencies.\\nTo view Figure 1 - DOT Property - Total Field Magnetometer Map, please visit the following link: http://media3.marketwire.com/docs/ dmap.pdf.', 'timestamp': '2018/04/21 21:46:33', 'url': 'http://www.redorbit.com/news/business/1503000/dot_announces_2008_exploration_program/', 'source': 'mC4'}\n"
     ]
    }
   ],
   "source": [
    "ds_head = ds.take(5000)\n",
    "first_example = None\n",
    "for d in ds_head:\n",
    "    print(d)\n",
    "    first_example = d\n",
    "    break"
   ]
  },
  {
   "cell_type": "code",
   "execution_count": 18,
   "metadata": {},
   "outputs": [
    {
     "name": "stdout",
     "output_type": "stream",
     "text": [
      "IterableDataset({\n",
      "    features: ['text', 'timestamp', 'url', 'source'],\n",
      "    n_shards: 3072\n",
      "})\n"
     ]
    }
   ],
   "source": [
    "print(ds_head)"
   ]
  },
  {
   "cell_type": "code",
   "execution_count": 6,
   "metadata": {},
   "outputs": [
    {
     "name": "stdout",
     "output_type": "stream",
     "text": [
      "<class 'dict'>\n",
      "3242\n"
     ]
    }
   ],
   "source": [
    "def create_pairs(example):\n",
    "    text = example[\"text\"]\n",
    "    pairs = []\n",
    "    for i in range(1, len(text)):\n",
    "        pairs.append({\"input\": text[:i], \"output\": text[i]})\n",
    "    return pairs\n",
    "print(type(d))\n",
    "print(len(create_pairs(d)))\n",
    "# transformed = Dataset.from_dict(d).map(create_pairs, remove_columns=[\"text\", \"timestamp\"], batched=True)\n",
    "# for t in transformed:\n",
    "#     print(t)"
   ]
  },
  {
   "cell_type": "code",
   "execution_count": 10,
   "metadata": {},
   "outputs": [
    {
     "name": "stdout",
     "output_type": "stream",
     "text": [
      "1799\n",
      "35475071\n"
     ]
    }
   ],
   "source": [
    "chars = set()\n",
    "num_chars = 0\n",
    "for d in ds_head:\n",
    "    num_chars += len(d['text'])\n",
    "    # print(set(list(d['text'])))\n",
    "    chars.update(d['text'])\n",
    "print(len(chars))\n",
    "print(num_chars)"
   ]
  },
  {
   "cell_type": "code",
   "execution_count": null,
   "metadata": {},
   "outputs": [],
   "source": []
  }
 ],
 "metadata": {
  "kernelspec": {
   "display_name": "cse447",
   "language": "python",
   "name": "python3"
  },
  "language_info": {
   "codemirror_mode": {
    "name": "ipython",
    "version": 3
   },
   "file_extension": ".py",
   "mimetype": "text/x-python",
   "name": "python",
   "nbconvert_exporter": "python",
   "pygments_lexer": "ipython3",
   "version": "3.11.11"
  }
 },
 "nbformat": 4,
 "nbformat_minor": 2
}
